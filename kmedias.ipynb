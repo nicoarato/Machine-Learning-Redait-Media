{
 "cells": [
  {
   "cell_type": "markdown",
   "metadata": {},
   "source": [
    "# K-means "
   ]
  },
  {
   "cell_type": "markdown",
   "metadata": {},
   "source": [
    "## Es un algoritmo de aprendizaje no supervisado para resolver problemas de clustering.\n",
    "## Tiene como objetivo la partición de un conjunto de \"n\" observaciones en \"k\" grupos en el que cada observación pertenece al grupo cuyo valor medio es más cercano.\n",
    "## Es un método utilizado en minería de datos."
   ]
  },
  {
   "cell_type": "code",
   "execution_count": 2,
   "metadata": {},
   "outputs": [],
   "source": [
    "import pandas as pd\n",
    "import sklearn as sns\n",
    "import numpy as pd\n",
    "import matplotlib.pyplot as plt"
   ]
  },
  {
   "cell_type": "code",
   "execution_count": 3,
   "metadata": {},
   "outputs": [],
   "source": [
    "##Ejemplos aleatorios"
   ]
  },
  {
   "cell_type": "code",
   "execution_count": 4,
   "metadata": {},
   "outputs": [],
   "source": [
    "from sklearn.datasets import make_blobs"
   ]
  },
  {
   "cell_type": "code",
   "execution_count": 5,
   "metadata": {},
   "outputs": [],
   "source": [
    "datos = make_blobs(n_samples=200,n_features=2,centers=4)"
   ]
  },
  {
   "cell_type": "code",
   "execution_count": 7,
   "metadata": {},
   "outputs": [
    {
     "data": {
      "text/plain": [
       "(array([[ 8.04887055,  7.95007803],\n",
       "        [ 1.19272788, -8.72932995],\n",
       "        [ 9.82432177,  3.75934341],\n",
       "        [ 7.70306771,  9.54036999],\n",
       "        [ 6.30316427,  7.15661499],\n",
       "        [11.42040188,  2.38971276],\n",
       "        [ 7.5565431 ,  5.96688641],\n",
       "        [ 8.62735705, -3.72439605],\n",
       "        [ 0.80381246, -6.17098108],\n",
       "        [ 6.10234526,  6.29017625],\n",
       "        [ 8.33860207,  3.40205947],\n",
       "        [ 1.79773856, -7.46119037],\n",
       "        [ 8.98054095,  3.95728359],\n",
       "        [11.00504448,  3.2533486 ],\n",
       "        [ 7.69994956,  2.90054477],\n",
       "        [ 9.89969138,  1.99433032],\n",
       "        [10.18070919,  2.69377815],\n",
       "        [ 9.901906  ,  2.41789266],\n",
       "        [ 0.64214093, -9.44435306],\n",
       "        [10.75789928,  3.38047765],\n",
       "        [ 2.24241813, -7.75409502],\n",
       "        [ 2.57495978, -9.00374846],\n",
       "        [ 9.91562812,  2.85741276],\n",
       "        [ 7.25862513,  7.56072527],\n",
       "        [-1.45443857, -8.77919293],\n",
       "        [ 7.09613499, -4.68356155],\n",
       "        [ 8.39611902, -5.35487993],\n",
       "        [ 7.19474963, -4.05845177],\n",
       "        [ 7.05090074,  8.73678469],\n",
       "        [ 0.97144182, -9.41573491],\n",
       "        [ 7.70678738, -2.21148026],\n",
       "        [ 7.65687124,  8.46266266],\n",
       "        [10.38422977,  2.77591561],\n",
       "        [ 5.2911842 ,  7.16346621],\n",
       "        [-0.59985779, -8.61910417],\n",
       "        [ 7.08596405, -2.60026052],\n",
       "        [ 6.20473215, -4.27659592],\n",
       "        [ 0.71172176, -8.41064569],\n",
       "        [ 7.25587619,  7.19710428],\n",
       "        [ 0.86580387, -9.18302702],\n",
       "        [10.34235926, -6.22882681],\n",
       "        [ 0.44625472, -7.27548629],\n",
       "        [ 8.28970553, -4.88608159],\n",
       "        [ 3.5438617 , -7.60384618],\n",
       "        [ 8.55261351,  4.84221325],\n",
       "        [ 8.44328661, -3.60569812],\n",
       "        [ 7.37021932, -6.6499255 ],\n",
       "        [ 1.95441281, -6.53321286],\n",
       "        [ 2.22914149, -6.04041398],\n",
       "        [ 6.94700834,  8.05289587],\n",
       "        [ 5.71169158, -2.77119145],\n",
       "        [ 8.32709081, -3.95871514],\n",
       "        [ 6.24432414,  6.77734651],\n",
       "        [11.28251392,  4.55285851],\n",
       "        [ 8.2009055 , -3.7994663 ],\n",
       "        [ 0.64849433, -7.52754763],\n",
       "        [ 8.68958264,  8.49851022],\n",
       "        [11.60458808,  2.04526348],\n",
       "        [ 9.89969232,  3.86387678],\n",
       "        [ 7.81253204,  9.20251128],\n",
       "        [ 8.27426912,  6.84293639],\n",
       "        [ 6.7956773 ,  6.09220035],\n",
       "        [ 8.36260817,  7.93166271],\n",
       "        [-1.02808647, -8.16040184],\n",
       "        [ 9.60816865,  4.56843353],\n",
       "        [ 8.33173696, -5.44272618],\n",
       "        [ 9.34147576,  3.68568115],\n",
       "        [10.36976494,  5.28336868],\n",
       "        [ 8.10026977, -4.90925207],\n",
       "        [ 8.06250711,  6.64672245],\n",
       "        [ 8.00603318, -5.54197171],\n",
       "        [10.42256702,  2.51291858],\n",
       "        [ 7.81063941, -2.83305648],\n",
       "        [ 7.21422507,  8.27566233],\n",
       "        [ 3.68429207, -6.87792555],\n",
       "        [ 1.82389133, -6.84636218],\n",
       "        [10.43083183,  3.25894162],\n",
       "        [ 8.75861639,  9.48820488],\n",
       "        [ 6.62379904,  7.13752467],\n",
       "        [ 8.2096376 , -5.44344237],\n",
       "        [ 0.78605191, -9.00203406],\n",
       "        [ 0.31394046, -8.32123704],\n",
       "        [ 6.73635993,  7.85491697],\n",
       "        [ 6.73380722,  9.06037684],\n",
       "        [ 7.88280103,  8.2871616 ],\n",
       "        [ 9.6443806 , -6.12278099],\n",
       "        [ 7.86944989,  7.75056019],\n",
       "        [10.47379566,  2.16413011],\n",
       "        [ 8.6127934 ,  5.33319182],\n",
       "        [ 0.62533506, -8.55639353],\n",
       "        [ 8.32847754,  8.00941257],\n",
       "        [ 7.58568069, -3.98843901],\n",
       "        [ 9.65680545,  2.22383666],\n",
       "        [ 9.62624925,  2.3466792 ],\n",
       "        [ 8.43132397,  1.67204631],\n",
       "        [ 0.51630362, -7.95084398],\n",
       "        [ 8.14161188,  7.75995853],\n",
       "        [ 9.57236502,  3.73227163],\n",
       "        [ 6.42627825, -4.90982566],\n",
       "        [-0.44890228, -7.93351144],\n",
       "        [ 2.64149408, -7.63656554],\n",
       "        [ 9.1119914 ,  2.5694294 ],\n",
       "        [ 7.32772248,  7.51714746],\n",
       "        [ 7.31907517,  8.02125541],\n",
       "        [ 8.60053336, -3.6041256 ],\n",
       "        [12.49313794,  3.70415846],\n",
       "        [ 8.11622542, -4.32642656],\n",
       "        [ 7.8252824 , -5.38028567],\n",
       "        [ 8.47713986, -3.68789494],\n",
       "        [ 6.62170547,  7.31759508],\n",
       "        [ 8.84902889,  1.61406216],\n",
       "        [ 7.61304492, -4.92188976],\n",
       "        [ 9.84203235,  2.8371066 ],\n",
       "        [ 8.45603196, -3.81068734],\n",
       "        [ 7.70042004, -4.21558925],\n",
       "        [ 9.46548765,  0.71875382],\n",
       "        [ 7.06867099,  8.39874852],\n",
       "        [ 7.69774077, -4.72737923],\n",
       "        [ 1.33248665, -6.59292498],\n",
       "        [ 6.60726928, -3.23179072],\n",
       "        [ 6.01417852,  5.70144421],\n",
       "        [ 7.36425926, -4.06503596],\n",
       "        [ 2.33019951, -8.52988627],\n",
       "        [ 2.31280938, -8.67238576],\n",
       "        [ 6.7756592 ,  7.7744469 ],\n",
       "        [ 0.6723999 , -7.58301824],\n",
       "        [ 7.6062271 ,  7.60262658],\n",
       "        [ 7.56757135,  7.93693803],\n",
       "        [ 9.15397353,  7.35879324],\n",
       "        [ 1.40943657, -9.74021257],\n",
       "        [ 8.42563435,  8.41474957],\n",
       "        [ 8.13356729, -2.93257348],\n",
       "        [ 7.46189411,  8.70470353],\n",
       "        [ 8.09714026, -4.35748678],\n",
       "        [ 8.77080929,  3.11869839],\n",
       "        [ 0.74911052, -8.37158263],\n",
       "        [ 9.44638726,  2.37286716],\n",
       "        [ 7.81718124,  8.79032706],\n",
       "        [ 7.58388653, -2.41319018],\n",
       "        [ 1.41232865, -6.63271058],\n",
       "        [ 2.10006642, -7.27087121],\n",
       "        [ 6.6011694 ,  8.12772939],\n",
       "        [ 8.5522474 ,  7.52237491],\n",
       "        [ 6.85804534,  8.21558672],\n",
       "        [ 8.33015941, -5.4220931 ],\n",
       "        [ 7.46992378,  8.9068159 ],\n",
       "        [ 2.1441348 , -7.50071299],\n",
       "        [10.64258839,  1.48575327],\n",
       "        [ 0.51149456, -7.09251829],\n",
       "        [ 2.25990662, -7.06477015],\n",
       "        [ 7.18538143,  7.61496768],\n",
       "        [ 0.53793475, -7.2179013 ],\n",
       "        [ 0.05619637, -4.85377927],\n",
       "        [10.60070234,  2.60944063],\n",
       "        [10.74728622,  1.8914388 ],\n",
       "        [ 9.13918957, -4.2454917 ],\n",
       "        [10.09593254,  2.13139674],\n",
       "        [ 8.25849782, -2.76377463],\n",
       "        [ 7.48426482, -3.58117819],\n",
       "        [ 9.15030966, -5.08113908],\n",
       "        [ 8.6276416 , -4.47561866],\n",
       "        [ 7.34552566,  7.59791778],\n",
       "        [ 8.38322119,  2.00814813],\n",
       "        [ 0.83121957, -7.06145839],\n",
       "        [ 8.80411768, -4.94161334],\n",
       "        [ 1.55957671, -7.47433229],\n",
       "        [ 7.49164073,  8.40450582],\n",
       "        [ 0.3765466 , -8.43676925],\n",
       "        [ 1.30304511, -7.67766911],\n",
       "        [ 1.62453719, -7.30267813],\n",
       "        [ 9.14899808, -5.48989536],\n",
       "        [ 5.66400409, -3.38815911],\n",
       "        [11.60166505,  1.44329823],\n",
       "        [ 8.12674865,  7.841234  ],\n",
       "        [ 7.68272963, -4.43157192],\n",
       "        [ 8.14071548, -3.59947699],\n",
       "        [ 1.95191222, -8.95601526],\n",
       "        [ 8.47999127,  9.2315073 ],\n",
       "        [-0.32414212, -8.11840953],\n",
       "        [ 9.34018449,  2.58883733],\n",
       "        [ 9.63079341,  2.02067869],\n",
       "        [11.17154902,  1.67106008],\n",
       "        [ 9.2914684 , -5.66045346],\n",
       "        [ 7.53197636,  7.64374221],\n",
       "        [ 1.24540206, -8.1271381 ],\n",
       "        [ 1.60916083, -6.85177229],\n",
       "        [ 2.29686827, -9.81554862],\n",
       "        [10.2820053 ,  2.8712339 ],\n",
       "        [10.07447676,  2.99579251],\n",
       "        [ 9.85517744,  7.42615748],\n",
       "        [ 7.22494622, -5.74652153],\n",
       "        [10.83375075,  3.93315458],\n",
       "        [ 0.69690949, -7.78444602],\n",
       "        [ 8.30648698,  4.64860313],\n",
       "        [ 0.94565772, -6.94007933],\n",
       "        [ 8.6993454 ,  2.71602182],\n",
       "        [ 7.89142975, -3.88029796],\n",
       "        [ 9.5511145 ,  1.6770649 ],\n",
       "        [ 6.84861433, -4.58486425],\n",
       "        [ 8.30212224,  4.70268715]]),\n",
       " array([3, 0, 2, 3, 3, 2, 3, 1, 0, 3, 2, 0, 2, 2, 2, 2, 2, 2, 0, 2, 0, 0,\n",
       "        2, 3, 0, 1, 1, 1, 3, 0, 1, 3, 2, 3, 0, 1, 1, 0, 3, 0, 1, 0, 1, 0,\n",
       "        2, 1, 1, 0, 0, 3, 1, 1, 3, 2, 1, 0, 3, 2, 2, 3, 3, 3, 3, 0, 2, 1,\n",
       "        2, 2, 1, 3, 1, 2, 1, 3, 0, 0, 2, 3, 3, 1, 0, 0, 3, 3, 3, 1, 3, 2,\n",
       "        2, 0, 3, 1, 2, 2, 2, 0, 3, 2, 1, 0, 0, 2, 3, 3, 1, 2, 1, 1, 1, 3,\n",
       "        2, 1, 2, 1, 1, 2, 3, 1, 0, 1, 3, 1, 0, 0, 3, 0, 3, 3, 3, 0, 3, 1,\n",
       "        3, 1, 2, 0, 2, 3, 1, 0, 0, 3, 3, 3, 1, 3, 0, 2, 0, 0, 3, 0, 0, 2,\n",
       "        2, 1, 2, 1, 1, 1, 1, 3, 2, 0, 1, 0, 3, 0, 0, 0, 1, 1, 2, 3, 1, 1,\n",
       "        0, 3, 0, 2, 2, 2, 1, 3, 0, 0, 0, 2, 2, 3, 1, 2, 0, 2, 0, 2, 1, 2,\n",
       "        1, 2]))"
      ]
     },
     "execution_count": 7,
     "metadata": {},
     "output_type": "execute_result"
    }
   ],
   "source": [
    "datos"
   ]
  },
  {
   "cell_type": "code",
   "execution_count": 8,
   "metadata": {},
   "outputs": [
    {
     "data": {
      "text/plain": [
       "array([[ 8.04887055,  7.95007803],\n",
       "       [ 1.19272788, -8.72932995],\n",
       "       [ 9.82432177,  3.75934341],\n",
       "       [ 7.70306771,  9.54036999],\n",
       "       [ 6.30316427,  7.15661499],\n",
       "       [11.42040188,  2.38971276],\n",
       "       [ 7.5565431 ,  5.96688641],\n",
       "       [ 8.62735705, -3.72439605],\n",
       "       [ 0.80381246, -6.17098108],\n",
       "       [ 6.10234526,  6.29017625],\n",
       "       [ 8.33860207,  3.40205947],\n",
       "       [ 1.79773856, -7.46119037],\n",
       "       [ 8.98054095,  3.95728359],\n",
       "       [11.00504448,  3.2533486 ],\n",
       "       [ 7.69994956,  2.90054477],\n",
       "       [ 9.89969138,  1.99433032],\n",
       "       [10.18070919,  2.69377815],\n",
       "       [ 9.901906  ,  2.41789266],\n",
       "       [ 0.64214093, -9.44435306],\n",
       "       [10.75789928,  3.38047765],\n",
       "       [ 2.24241813, -7.75409502],\n",
       "       [ 2.57495978, -9.00374846],\n",
       "       [ 9.91562812,  2.85741276],\n",
       "       [ 7.25862513,  7.56072527],\n",
       "       [-1.45443857, -8.77919293],\n",
       "       [ 7.09613499, -4.68356155],\n",
       "       [ 8.39611902, -5.35487993],\n",
       "       [ 7.19474963, -4.05845177],\n",
       "       [ 7.05090074,  8.73678469],\n",
       "       [ 0.97144182, -9.41573491],\n",
       "       [ 7.70678738, -2.21148026],\n",
       "       [ 7.65687124,  8.46266266],\n",
       "       [10.38422977,  2.77591561],\n",
       "       [ 5.2911842 ,  7.16346621],\n",
       "       [-0.59985779, -8.61910417],\n",
       "       [ 7.08596405, -2.60026052],\n",
       "       [ 6.20473215, -4.27659592],\n",
       "       [ 0.71172176, -8.41064569],\n",
       "       [ 7.25587619,  7.19710428],\n",
       "       [ 0.86580387, -9.18302702],\n",
       "       [10.34235926, -6.22882681],\n",
       "       [ 0.44625472, -7.27548629],\n",
       "       [ 8.28970553, -4.88608159],\n",
       "       [ 3.5438617 , -7.60384618],\n",
       "       [ 8.55261351,  4.84221325],\n",
       "       [ 8.44328661, -3.60569812],\n",
       "       [ 7.37021932, -6.6499255 ],\n",
       "       [ 1.95441281, -6.53321286],\n",
       "       [ 2.22914149, -6.04041398],\n",
       "       [ 6.94700834,  8.05289587],\n",
       "       [ 5.71169158, -2.77119145],\n",
       "       [ 8.32709081, -3.95871514],\n",
       "       [ 6.24432414,  6.77734651],\n",
       "       [11.28251392,  4.55285851],\n",
       "       [ 8.2009055 , -3.7994663 ],\n",
       "       [ 0.64849433, -7.52754763],\n",
       "       [ 8.68958264,  8.49851022],\n",
       "       [11.60458808,  2.04526348],\n",
       "       [ 9.89969232,  3.86387678],\n",
       "       [ 7.81253204,  9.20251128],\n",
       "       [ 8.27426912,  6.84293639],\n",
       "       [ 6.7956773 ,  6.09220035],\n",
       "       [ 8.36260817,  7.93166271],\n",
       "       [-1.02808647, -8.16040184],\n",
       "       [ 9.60816865,  4.56843353],\n",
       "       [ 8.33173696, -5.44272618],\n",
       "       [ 9.34147576,  3.68568115],\n",
       "       [10.36976494,  5.28336868],\n",
       "       [ 8.10026977, -4.90925207],\n",
       "       [ 8.06250711,  6.64672245],\n",
       "       [ 8.00603318, -5.54197171],\n",
       "       [10.42256702,  2.51291858],\n",
       "       [ 7.81063941, -2.83305648],\n",
       "       [ 7.21422507,  8.27566233],\n",
       "       [ 3.68429207, -6.87792555],\n",
       "       [ 1.82389133, -6.84636218],\n",
       "       [10.43083183,  3.25894162],\n",
       "       [ 8.75861639,  9.48820488],\n",
       "       [ 6.62379904,  7.13752467],\n",
       "       [ 8.2096376 , -5.44344237],\n",
       "       [ 0.78605191, -9.00203406],\n",
       "       [ 0.31394046, -8.32123704],\n",
       "       [ 6.73635993,  7.85491697],\n",
       "       [ 6.73380722,  9.06037684],\n",
       "       [ 7.88280103,  8.2871616 ],\n",
       "       [ 9.6443806 , -6.12278099],\n",
       "       [ 7.86944989,  7.75056019],\n",
       "       [10.47379566,  2.16413011],\n",
       "       [ 8.6127934 ,  5.33319182],\n",
       "       [ 0.62533506, -8.55639353],\n",
       "       [ 8.32847754,  8.00941257],\n",
       "       [ 7.58568069, -3.98843901],\n",
       "       [ 9.65680545,  2.22383666],\n",
       "       [ 9.62624925,  2.3466792 ],\n",
       "       [ 8.43132397,  1.67204631],\n",
       "       [ 0.51630362, -7.95084398],\n",
       "       [ 8.14161188,  7.75995853],\n",
       "       [ 9.57236502,  3.73227163],\n",
       "       [ 6.42627825, -4.90982566],\n",
       "       [-0.44890228, -7.93351144],\n",
       "       [ 2.64149408, -7.63656554],\n",
       "       [ 9.1119914 ,  2.5694294 ],\n",
       "       [ 7.32772248,  7.51714746],\n",
       "       [ 7.31907517,  8.02125541],\n",
       "       [ 8.60053336, -3.6041256 ],\n",
       "       [12.49313794,  3.70415846],\n",
       "       [ 8.11622542, -4.32642656],\n",
       "       [ 7.8252824 , -5.38028567],\n",
       "       [ 8.47713986, -3.68789494],\n",
       "       [ 6.62170547,  7.31759508],\n",
       "       [ 8.84902889,  1.61406216],\n",
       "       [ 7.61304492, -4.92188976],\n",
       "       [ 9.84203235,  2.8371066 ],\n",
       "       [ 8.45603196, -3.81068734],\n",
       "       [ 7.70042004, -4.21558925],\n",
       "       [ 9.46548765,  0.71875382],\n",
       "       [ 7.06867099,  8.39874852],\n",
       "       [ 7.69774077, -4.72737923],\n",
       "       [ 1.33248665, -6.59292498],\n",
       "       [ 6.60726928, -3.23179072],\n",
       "       [ 6.01417852,  5.70144421],\n",
       "       [ 7.36425926, -4.06503596],\n",
       "       [ 2.33019951, -8.52988627],\n",
       "       [ 2.31280938, -8.67238576],\n",
       "       [ 6.7756592 ,  7.7744469 ],\n",
       "       [ 0.6723999 , -7.58301824],\n",
       "       [ 7.6062271 ,  7.60262658],\n",
       "       [ 7.56757135,  7.93693803],\n",
       "       [ 9.15397353,  7.35879324],\n",
       "       [ 1.40943657, -9.74021257],\n",
       "       [ 8.42563435,  8.41474957],\n",
       "       [ 8.13356729, -2.93257348],\n",
       "       [ 7.46189411,  8.70470353],\n",
       "       [ 8.09714026, -4.35748678],\n",
       "       [ 8.77080929,  3.11869839],\n",
       "       [ 0.74911052, -8.37158263],\n",
       "       [ 9.44638726,  2.37286716],\n",
       "       [ 7.81718124,  8.79032706],\n",
       "       [ 7.58388653, -2.41319018],\n",
       "       [ 1.41232865, -6.63271058],\n",
       "       [ 2.10006642, -7.27087121],\n",
       "       [ 6.6011694 ,  8.12772939],\n",
       "       [ 8.5522474 ,  7.52237491],\n",
       "       [ 6.85804534,  8.21558672],\n",
       "       [ 8.33015941, -5.4220931 ],\n",
       "       [ 7.46992378,  8.9068159 ],\n",
       "       [ 2.1441348 , -7.50071299],\n",
       "       [10.64258839,  1.48575327],\n",
       "       [ 0.51149456, -7.09251829],\n",
       "       [ 2.25990662, -7.06477015],\n",
       "       [ 7.18538143,  7.61496768],\n",
       "       [ 0.53793475, -7.2179013 ],\n",
       "       [ 0.05619637, -4.85377927],\n",
       "       [10.60070234,  2.60944063],\n",
       "       [10.74728622,  1.8914388 ],\n",
       "       [ 9.13918957, -4.2454917 ],\n",
       "       [10.09593254,  2.13139674],\n",
       "       [ 8.25849782, -2.76377463],\n",
       "       [ 7.48426482, -3.58117819],\n",
       "       [ 9.15030966, -5.08113908],\n",
       "       [ 8.6276416 , -4.47561866],\n",
       "       [ 7.34552566,  7.59791778],\n",
       "       [ 8.38322119,  2.00814813],\n",
       "       [ 0.83121957, -7.06145839],\n",
       "       [ 8.80411768, -4.94161334],\n",
       "       [ 1.55957671, -7.47433229],\n",
       "       [ 7.49164073,  8.40450582],\n",
       "       [ 0.3765466 , -8.43676925],\n",
       "       [ 1.30304511, -7.67766911],\n",
       "       [ 1.62453719, -7.30267813],\n",
       "       [ 9.14899808, -5.48989536],\n",
       "       [ 5.66400409, -3.38815911],\n",
       "       [11.60166505,  1.44329823],\n",
       "       [ 8.12674865,  7.841234  ],\n",
       "       [ 7.68272963, -4.43157192],\n",
       "       [ 8.14071548, -3.59947699],\n",
       "       [ 1.95191222, -8.95601526],\n",
       "       [ 8.47999127,  9.2315073 ],\n",
       "       [-0.32414212, -8.11840953],\n",
       "       [ 9.34018449,  2.58883733],\n",
       "       [ 9.63079341,  2.02067869],\n",
       "       [11.17154902,  1.67106008],\n",
       "       [ 9.2914684 , -5.66045346],\n",
       "       [ 7.53197636,  7.64374221],\n",
       "       [ 1.24540206, -8.1271381 ],\n",
       "       [ 1.60916083, -6.85177229],\n",
       "       [ 2.29686827, -9.81554862],\n",
       "       [10.2820053 ,  2.8712339 ],\n",
       "       [10.07447676,  2.99579251],\n",
       "       [ 9.85517744,  7.42615748],\n",
       "       [ 7.22494622, -5.74652153],\n",
       "       [10.83375075,  3.93315458],\n",
       "       [ 0.69690949, -7.78444602],\n",
       "       [ 8.30648698,  4.64860313],\n",
       "       [ 0.94565772, -6.94007933],\n",
       "       [ 8.6993454 ,  2.71602182],\n",
       "       [ 7.89142975, -3.88029796],\n",
       "       [ 9.5511145 ,  1.6770649 ],\n",
       "       [ 6.84861433, -4.58486425],\n",
       "       [ 8.30212224,  4.70268715]])"
      ]
     },
     "execution_count": 8,
     "metadata": {},
     "output_type": "execute_result"
    }
   ],
   "source": [
    "datos[0]"
   ]
  },
  {
   "cell_type": "code",
   "execution_count": 9,
   "metadata": {},
   "outputs": [
    {
     "data": {
      "text/plain": [
       "array([3, 0, 2, 3, 3, 2, 3, 1, 0, 3, 2, 0, 2, 2, 2, 2, 2, 2, 0, 2, 0, 0,\n",
       "       2, 3, 0, 1, 1, 1, 3, 0, 1, 3, 2, 3, 0, 1, 1, 0, 3, 0, 1, 0, 1, 0,\n",
       "       2, 1, 1, 0, 0, 3, 1, 1, 3, 2, 1, 0, 3, 2, 2, 3, 3, 3, 3, 0, 2, 1,\n",
       "       2, 2, 1, 3, 1, 2, 1, 3, 0, 0, 2, 3, 3, 1, 0, 0, 3, 3, 3, 1, 3, 2,\n",
       "       2, 0, 3, 1, 2, 2, 2, 0, 3, 2, 1, 0, 0, 2, 3, 3, 1, 2, 1, 1, 1, 3,\n",
       "       2, 1, 2, 1, 1, 2, 3, 1, 0, 1, 3, 1, 0, 0, 3, 0, 3, 3, 3, 0, 3, 1,\n",
       "       3, 1, 2, 0, 2, 3, 1, 0, 0, 3, 3, 3, 1, 3, 0, 2, 0, 0, 3, 0, 0, 2,\n",
       "       2, 1, 2, 1, 1, 1, 1, 3, 2, 0, 1, 0, 3, 0, 0, 0, 1, 1, 2, 3, 1, 1,\n",
       "       0, 3, 0, 2, 2, 2, 1, 3, 0, 0, 0, 2, 2, 3, 1, 2, 0, 2, 0, 2, 1, 2,\n",
       "       1, 2])"
      ]
     },
     "execution_count": 9,
     "metadata": {},
     "output_type": "execute_result"
    }
   ],
   "source": [
    "datos[1]"
   ]
  },
  {
   "cell_type": "code",
   "execution_count": 12,
   "metadata": {},
   "outputs": [
    {
     "data": {
      "text/plain": [
       "<matplotlib.collections.PathCollection at 0xae415e7cf8>"
      ]
     },
     "execution_count": 12,
     "metadata": {},
     "output_type": "execute_result"
    },
    {
     "data": {
      "image/png": "[encoded data removed]",
      "text/plain": [
       "<Figure size 432x288 with 1 Axes>"
      ]
     },
     "metadata": {
      "needs_background": "light"
     },
     "output_type": "display_data"
    }
   ],
   "source": [
    "plt.scatter(datos[0][:,0], datos[0][:,1])"
   ]
  },
  {
   "cell_type": "code",
   "execution_count": 13,
   "metadata": {},
   "outputs": [],
   "source": [
    "from sklearn.cluster import KMeans"
   ]
  },
  {
   "cell_type": "code",
   "execution_count": 15,
   "metadata": {},
   "outputs": [],
   "source": [
    "modelo = KMeans(n_clusters=4)"
   ]
  },
  {
   "cell_type": "code",
   "execution_count": 16,
   "metadata": {},
   "outputs": [
    {
     "data": {
      "text/plain": [
       "KMeans(algorithm='auto', copy_x=True, init='k-means++', max_iter=300,\n",
       "       n_clusters=4, n_init=10, n_jobs=None, precompute_distances='auto',\n",
       "       random_state=None, tol=0.0001, verbose=0)"
      ]
     },
     "execution_count": 16,
     "metadata": {},
     "output_type": "execute_result"
    }
   ],
   "source": [
    "modelo.fit(datos[0])"
   ]
  },
  {
   "cell_type": "code",
   "execution_count": 18,
   "metadata": {},
   "outputs": [
    {
     "data": {
      "text/plain": [
       "array([[ 7.94142774, -4.3393506 ],\n",
       "       [ 7.50931803,  7.78623411],\n",
       "       [ 1.18860304, -7.81813551],\n",
       "       [ 9.87395468,  2.87478174]])"
      ]
     },
     "execution_count": 18,
     "metadata": {},
     "output_type": "execute_result"
    }
   ],
   "source": [
    "modelo.cluster_centers_"
   ]
  },
  {
   "cell_type": "code",
   "execution_count": 19,
   "metadata": {},
   "outputs": [
    {
     "data": {
      "text/plain": [
       "array([1, 2, 3, 1, 1, 3, 1, 0, 2, 1, 3, 2, 3, 3, 3, 3, 3, 3, 2, 3, 2, 2,\n",
       "       3, 1, 2, 0, 0, 0, 1, 2, 0, 1, 3, 1, 2, 0, 0, 2, 1, 2, 0, 2, 0, 2,\n",
       "       3, 0, 0, 2, 2, 1, 0, 0, 1, 3, 0, 2, 1, 3, 3, 1, 1, 1, 1, 2, 3, 0,\n",
       "       3, 3, 0, 1, 0, 3, 0, 1, 2, 2, 3, 1, 1, 0, 2, 2, 1, 1, 1, 0, 1, 3,\n",
       "       1, 2, 1, 0, 3, 3, 3, 2, 1, 3, 0, 2, 2, 3, 1, 1, 0, 3, 0, 0, 0, 1,\n",
       "       3, 0, 3, 0, 0, 3, 1, 0, 2, 0, 1, 0, 2, 2, 1, 2, 1, 1, 1, 2, 1, 0,\n",
       "       1, 0, 3, 2, 3, 1, 0, 2, 2, 1, 1, 1, 0, 1, 2, 3, 2, 2, 1, 2, 2, 3,\n",
       "       3, 0, 3, 0, 0, 0, 0, 1, 3, 2, 0, 2, 1, 2, 2, 2, 0, 0, 3, 1, 0, 0,\n",
       "       2, 1, 2, 3, 3, 3, 0, 1, 2, 2, 2, 3, 3, 1, 0, 3, 2, 3, 2, 3, 0, 3,\n",
       "       0, 3])"
      ]
     },
     "execution_count": 19,
     "metadata": {},
     "output_type": "execute_result"
    }
   ],
   "source": [
    "modelo.labels_"
   ]
  },
  {
   "cell_type": "code",
   "execution_count": 20,
   "metadata": {},
   "outputs": [
    {
     "data": {
      "text/plain": [
       "array([3, 0, 2, 3, 3, 2, 3, 1, 0, 3, 2, 0, 2, 2, 2, 2, 2, 2, 0, 2, 0, 0,\n",
       "       2, 3, 0, 1, 1, 1, 3, 0, 1, 3, 2, 3, 0, 1, 1, 0, 3, 0, 1, 0, 1, 0,\n",
       "       2, 1, 1, 0, 0, 3, 1, 1, 3, 2, 1, 0, 3, 2, 2, 3, 3, 3, 3, 0, 2, 1,\n",
       "       2, 2, 1, 3, 1, 2, 1, 3, 0, 0, 2, 3, 3, 1, 0, 0, 3, 3, 3, 1, 3, 2,\n",
       "       2, 0, 3, 1, 2, 2, 2, 0, 3, 2, 1, 0, 0, 2, 3, 3, 1, 2, 1, 1, 1, 3,\n",
       "       2, 1, 2, 1, 1, 2, 3, 1, 0, 1, 3, 1, 0, 0, 3, 0, 3, 3, 3, 0, 3, 1,\n",
       "       3, 1, 2, 0, 2, 3, 1, 0, 0, 3, 3, 3, 1, 3, 0, 2, 0, 0, 3, 0, 0, 2,\n",
       "       2, 1, 2, 1, 1, 1, 1, 3, 2, 0, 1, 0, 3, 0, 0, 0, 1, 1, 2, 3, 1, 1,\n",
       "       0, 3, 0, 2, 2, 2, 1, 3, 0, 0, 0, 2, 2, 3, 1, 2, 0, 2, 0, 2, 1, 2,\n",
       "       1, 2])"
      ]
     },
     "execution_count": 20,
     "metadata": {},
     "output_type": "execute_result"
    }
   ],
   "source": [
    "datos[1]"
   ]
  },
  {
   "cell_type": "code",
   "execution_count": 23,
   "metadata": {},
   "outputs": [
    {
     "data": {
      "text/plain": [
       "Text(0.5, 1.0, 'Datos Originales')"
      ]
     },
     "execution_count": 23,
     "metadata": {},
     "output_type": "execute_result"
    },
    {
     "data": {
      "image/png": "[encoded data removed]",
      "text/plain": [
       "<Figure size 864x288 with 2 Axes>"
      ]
     },
     "metadata": {
      "needs_background": "light"
     },
     "output_type": "display_data"
    }
   ],
   "source": [
    "fig, (ax1,ax2) = plt.subplots(1,2,figsize=(12,4))\n",
    "ax1.scatter(datos[0][:,0], datos[0][:,1], c=modelo.labels_)\n",
    "ax1.set_title('Algoritmo de kmedias')\n",
    "\n",
    "ax2.scatter(datos[0][:,0], datos[0][:,1], c=datos[1])\n",
    "ax2.set_title('Datos Originales')"
   ]
  },
  {
   "cell_type": "code",
   "execution_count": null,
   "metadata": {},
   "outputs": [],
   "source": []
  }
 ],
 "metadata": {
  "kernelspec": {
   "display_name": "Python 3",
   "language": "python",
   "name": "python3"
  },
  "language_info": {
   "codemirror_mode": {
    "name": "ipython",
    "version": 3
   },
   "file_extension": ".py",
   "mimetype": "text/x-python",
   "name": "python",
   "nbconvert_exporter": "python",
   "pygments_lexer": "ipython3",
   "version": "3.7.1"
  }
 },
 "nbformat": 4,
 "nbformat_minor": 2
}
